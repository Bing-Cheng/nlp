{
 "cells": [
  {
   "cell_type": "markdown",
   "metadata": {
    "colab_type": "text",
    "id": "Ic4_occAAiAT"
   },
   "source": [
    "##### Copyright 2018 The TensorFlow Authors."
   ]
  },
  {
   "cell_type": "code",
   "execution_count": 1,
   "metadata": {
    "cellView": "form",
    "colab": {},
    "colab_type": "code",
    "id": "ioaprt5q5US7"
   },
   "outputs": [],
   "source": [
    "#@title Licensed under the Apache License, Version 2.0 (the \"License\");\n",
    "# you may not use this file except in compliance with the License.\n",
    "# You may obtain a copy of the License at\n",
    "#\n",
    "# https://www.apache.org/licenses/LICENSE-2.0\n",
    "#\n",
    "# Unless required by applicable law or agreed to in writing, software\n",
    "# distributed under the License is distributed on an \"AS IS\" BASIS,\n",
    "# WITHOUT WARRANTIES OR CONDITIONS OF ANY KIND, either express or implied.\n",
    "# See the License for the specific language governing permissions and\n",
    "# limitations under the License."
   ]
  },
  {
   "cell_type": "code",
   "execution_count": 2,
   "metadata": {
    "cellView": "form",
    "colab": {},
    "colab_type": "code",
    "id": "yCl0eTNH5RS3"
   },
   "outputs": [],
   "source": [
    "#@title MIT License\n",
    "#\n",
    "# Copyright (c) 2017 François Chollet\n",
    "#\n",
    "# Permission is hereby granted, free of charge, to any person obtaining a\n",
    "# copy of this software and associated documentation files (the \"Software\"),\n",
    "# to deal in the Software without restriction, including without limitation\n",
    "# the rights to use, copy, modify, merge, publish, distribute, sublicense,\n",
    "# and/or sell copies of the Software, and to permit persons to whom the\n",
    "# Software is furnished to do so, subject to the following conditions:\n",
    "#\n",
    "# The above copyright notice and this permission notice shall be included in\n",
    "# all copies or substantial portions of the Software.\n",
    "#\n",
    "# THE SOFTWARE IS PROVIDED \"AS IS\", WITHOUT WARRANTY OF ANY KIND, EXPRESS OR\n",
    "# IMPLIED, INCLUDING BUT NOT LIMITED TO THE WARRANTIES OF MERCHANTABILITY,\n",
    "# FITNESS FOR A PARTICULAR PURPOSE AND NONINFRINGEMENT. IN NO EVENT SHALL\n",
    "# THE AUTHORS OR COPYRIGHT HOLDERS BE LIABLE FOR ANY CLAIM, DAMAGES OR OTHER\n",
    "# LIABILITY, WHETHER IN AN ACTION OF CONTRACT, TORT OR OTHERWISE, ARISING\n",
    "# FROM, OUT OF OR IN CONNECTION WITH THE SOFTWARE OR THE USE OR OTHER\n",
    "# DEALINGS IN THE SOFTWARE."
   ]
  },
  {
   "cell_type": "markdown",
   "metadata": {
    "colab_type": "text",
    "id": "ItXfxkxvosLH"
   },
   "source": [
    "# Text classification with movie reviews"
   ]
  },
  {
   "cell_type": "markdown",
   "metadata": {
    "colab_type": "text",
    "id": "hKY4XMc9o8iB"
   },
   "source": [
    "<table class=\"tfo-notebook-buttons\" align=\"left\">\n",
    "  <td>\n",
    "    <a target=\"_blank\" href=\"https://www.tensorflow.org/tutorials/keras/basic_text_classification\"><img src=\"https://www.tensorflow.org/images/tf_logo_32px.png\" />View on TensorFlow.org</a>\n",
    "  </td>\n",
    "  <td>\n",
    "    <a target=\"_blank\" href=\"https://colab.research.google.com/github/tensorflow/docs/blob/master/site/en/tutorials/keras/basic_text_classification.ipynb\"><img src=\"https://www.tensorflow.org/images/colab_logo_32px.png\" />Run in Google Colab</a>\n",
    "  </td>\n",
    "  <td>\n",
    "    <a target=\"_blank\" href=\"https://github.com/tensorflow/docs/blob/master/site/en/tutorials/keras/basic_text_classification.ipynb\"><img src=\"https://www.tensorflow.org/images/GitHub-Mark-32px.png\" />View source on GitHub</a>\n",
    "  </td>\n",
    "</table>"
   ]
  },
  {
   "cell_type": "markdown",
   "metadata": {
    "colab_type": "text",
    "id": "Eg62Pmz3o83v"
   },
   "source": [
    "\n",
    "This notebook classifies movie reviews as *positive* or *negative* using the text of the review. This is an example of *binary*—or two-class—classification, an important and widely applicable kind of machine learning problem.\n",
    "\n",
    "We'll use the [IMDB dataset](https://www.tensorflow.org/api_docs/python/tf/keras/datasets/imdb) that contains the text of 50,000 movie reviews from the [Internet Movie Database](https://www.imdb.com/). These are split into 25,000 reviews for training and 25,000 reviews for testing. The training and testing sets are *balanced*, meaning they contain an equal number of positive and negative reviews.\n",
    "\n",
    "This notebook uses [tf.keras](https://www.tensorflow.org/guide/keras), a high-level API to build and train models in TensorFlow. For a more advanced text classification tutorial using `tf.keras`, see the [MLCC Text Classification Guide](https://developers.google.com/machine-learning/guides/text-classification/)."
   ]
  },
  {
   "cell_type": "code",
   "execution_count": 3,
   "metadata": {
    "colab": {},
    "colab_type": "code",
    "id": "JL-LtD0CBSZR"
   },
   "outputs": [
    {
     "name": "stdout",
     "output_type": "stream",
     "text": [
      "Collecting tf_nightly\n",
      "  Downloading tf_nightly-2.2.0.dev20200201-cp36-cp36m-manylinux2010_x86_64.whl (464.2 MB)\n",
      "\u001b[K     |████████████████████████████████| 464.2 MB 93 kB/s  eta 0:00:01   |                                | 419 kB 1.5 MB/s eta 0:05:00     |▋                               | 9.6 MB 4.7 MB/s eta 0:01:36     |█                               | 13.4 MB 4.7 MB/s eta 0:01:37     |███▊                            | 54.1 MB 4.9 MB/s eta 0:01:24     |████▎                           | 61.6 MB 4.2 MB/s eta 0:01:36     |██████▊                         | 97.8 MB 4.4 MB/s eta 0:01:23     |███████▋                        | 110.5 MB 4.7 MB/s eta 0:01:15     |████████▏                       | 119.2 MB 4.2 MB/s eta 0:01:22     |████████▋                       | 124.8 MB 4.6 MB/s eta 0:01:15     |████████▊                       | 126.0 MB 4.9 MB/s eta 0:01:09     |█████████                       | 129.8 MB 4.5 MB/s eta 0:01:15     |██████████                      | 144.3 MB 4.5 MB/s eta 0:01:12     |██████████▊                     | 155.0 MB 4.1 MB/s eta 0:01:17     |███████████▉                    | 172.4 MB 4.4 MB/s eta 0:01:07     |████████████▉                   | 186.9 MB 3.9 MB/s eta 0:01:12     |█████████████▎                  | 192.6 MB 4.7 MB/s eta 0:00:58     |█████████████▍                  | 193.9 MB 4.7 MB/s eta 0:00:58     |█████████████▉                  | 200.7 MB 4.6 MB/s eta 0:00:58     |██████████████▏                 | 206.2 MB 5.0 MB/s eta 0:00:52     |███████████████                 | 219.2 MB 4.6 MB/s eta 0:00:54     |█████████████████▎              | 250.6 MB 4.7 MB/s eta 0:00:46     |█████████████████▉              | 258.3 MB 4.1 MB/s eta 0:00:50     |███████████████████▊            | 286.6 MB 4.3 MB/s eta 0:00:42     |████████████████████▌           | 297.8 MB 3.7 MB/s eta 0:00:45     |████████████████████▊           | 300.8 MB 4.0 MB/s eta 0:00:41     |██████████████████████▌         | 326.4 MB 4.4 MB/s eta 0:00:32     |███████████████████████▌        | 341.3 MB 4.9 MB/s eta 0:00:26     |█████████████████████████▍      | 368.0 MB 1.7 MB/s eta 0:00:56     |█████████████████████████▍      | 368.5 MB 1.7 MB/s eta 0:00:55     |█████████████████████████▋      | 370.8 MB 4.7 MB/s eta 0:00:21     |██████████████████████████▎     | 381.7 MB 4.1 MB/s eta 0:00:21     |██████████████████████████▍     | 383.4 MB 4.3 MB/s eta 0:00:19     |██████████████████████████▌     | 384.0 MB 4.3 MB/s eta 0:00:19     |██████████████████████████▌     | 385.2 MB 4.3 MB/s eta 0:00:19     |██████████████████████████▋     | 385.4 MB 4.3 MB/s eta 0:00:19     |██████████████████████████▊     | 388.2 MB 3.9 MB/s eta 0:00:20     |███████████████████████████▏    | 394.8 MB 4.0 MB/s eta 0:00:18     |███████████████████████████▊    | 402.8 MB 4.0 MB/s eta 0:00:16     |███████████████████████████████▍| 455.5 MB 4.2 MB/s eta 0:00:03\n",
      "\u001b[?25hCollecting scipy==1.4.1; python_version >= \"3\"\n",
      "  Downloading scipy-1.4.1-cp36-cp36m-manylinux1_x86_64.whl (26.1 MB)\n",
      "\u001b[K     |████████████████████████████████| 26.1 MB 4.0 MB/s eta 0:00:01     |████████████▉                   | 10.4 MB 4.9 MB/s eta 0:00:04     |█████████████████████▏          | 17.2 MB 4.4 MB/s eta 0:00:02\n",
      "\u001b[?25hRequirement already satisfied: google-pasta>=0.1.8 in /usr/local/lib/python3.6/dist-packages (from tf_nightly) (0.1.8)\n",
      "Requirement already satisfied: absl-py>=0.7.0 in /usr/local/lib/python3.6/dist-packages (from tf_nightly) (0.9.0)\n",
      "Requirement already satisfied: numpy<2.0,>=1.16.0 in /usr/local/lib/python3.6/dist-packages (from tf_nightly) (1.18.1)\n",
      "Collecting astunparse==1.6.3\n",
      "  Downloading astunparse-1.6.3-py2.py3-none-any.whl (12 kB)\n",
      "Collecting six>=1.12.0\n",
      "  Downloading six-1.14.0-py2.py3-none-any.whl (10 kB)\n",
      "Collecting gast==0.3.3\n",
      "  Downloading gast-0.3.3-py2.py3-none-any.whl (9.7 kB)\n",
      "Requirement already satisfied: keras-preprocessing>=1.1.0 in /usr/local/lib/python3.6/dist-packages (from tf_nightly) (1.1.0)\n",
      "Requirement already satisfied: termcolor>=1.1.0 in /usr/local/lib/python3.6/dist-packages (from tf_nightly) (1.1.0)\n",
      "Requirement already satisfied: h5py<2.11.0,>=2.10.0 in /usr/local/lib/python3.6/dist-packages (from tf_nightly) (2.10.0)\n",
      "Collecting tf-estimator-nightly\n",
      "  Downloading tf_estimator_nightly-2.1.0.dev2020012309-py2.py3-none-any.whl (453 kB)\n",
      "\u001b[K     |████████████████████████████████| 453 kB 1.9 MB/s eta 0:00:01\n",
      "\u001b[?25hRequirement already satisfied: wheel>=0.26; python_version >= \"3\" in /usr/lib/python3/dist-packages (from tf_nightly) (0.30.0)\n",
      "Requirement already satisfied: opt-einsum>=2.3.2 in /usr/local/lib/python3.6/dist-packages (from tf_nightly) (3.1.0)\n",
      "Requirement already satisfied: grpcio>=1.8.6 in /usr/local/lib/python3.6/dist-packages (from tf_nightly) (1.26.0)\n",
      "Requirement already satisfied: wrapt>=1.11.1 in /usr/local/lib/python3.6/dist-packages (from tf_nightly) (1.11.2)\n",
      "Collecting tb-nightly<2.3.0a0,>=2.2.0a0\n",
      "  Downloading tb_nightly-2.2.0a20200201-py3-none-any.whl (3.9 MB)\n",
      "\u001b[K     |████████████████████████████████| 3.9 MB 4.3 MB/s eta 0:00:01\n",
      "\u001b[?25hRequirement already satisfied: protobuf>=3.8.0 in /usr/local/lib/python3.6/dist-packages (from tf_nightly) (3.11.2)\n",
      "Requirement already satisfied: werkzeug>=0.11.15 in /usr/local/lib/python3.6/dist-packages (from tb-nightly<2.3.0a0,>=2.2.0a0->tf_nightly) (0.16.1)\n",
      "Collecting google-auth<2,>=1.6.3\n",
      "  Downloading google_auth-1.11.0-py2.py3-none-any.whl (76 kB)\n",
      "\u001b[K     |████████████████████████████████| 76 kB 3.3 MB/s eta 0:00:011\n",
      "\u001b[?25hCollecting requests<3,>=2.21.0\n",
      "  Downloading requests-2.22.0-py2.py3-none-any.whl (57 kB)\n",
      "\u001b[K     |████████████████████████████████| 57 kB 3.0 MB/s eta 0:00:011\n",
      "\u001b[?25hRequirement already satisfied: setuptools>=41.0.0 in /usr/local/lib/python3.6/dist-packages (from tb-nightly<2.3.0a0,>=2.2.0a0->tf_nightly) (45.1.0)\n",
      "Collecting google-auth-oauthlib<0.5,>=0.4.1\n",
      "  Downloading google_auth_oauthlib-0.4.1-py2.py3-none-any.whl (18 kB)\n",
      "Requirement already satisfied: markdown>=2.6.8 in /usr/local/lib/python3.6/dist-packages (from tb-nightly<2.3.0a0,>=2.2.0a0->tf_nightly) (3.1.1)\n",
      "Collecting cachetools<5.0,>=2.0.0\n",
      "  Downloading cachetools-4.0.0-py3-none-any.whl (10 kB)\n",
      "Collecting pyasn1-modules>=0.2.1\n",
      "  Downloading pyasn1_modules-0.2.8-py2.py3-none-any.whl (155 kB)\n",
      "\u001b[K     |████████████████████████████████| 155 kB 1.4 MB/s eta 0:00:01\n",
      "\u001b[?25hCollecting rsa<4.1,>=3.1.4\n",
      "  Downloading rsa-4.0-py2.py3-none-any.whl (38 kB)\n",
      "Requirement already satisfied: idna<2.9,>=2.5 in /usr/lib/python3/dist-packages (from requests<3,>=2.21.0->tb-nightly<2.3.0a0,>=2.2.0a0->tf_nightly) (2.6)\n",
      "Collecting urllib3!=1.25.0,!=1.25.1,<1.26,>=1.21.1\n",
      "  Downloading urllib3-1.25.8-py2.py3-none-any.whl (125 kB)\n",
      "\u001b[K     |████████████████████████████████| 125 kB 4.3 MB/s eta 0:00:01\n",
      "\u001b[?25hCollecting chardet<3.1.0,>=3.0.2\n",
      "  Downloading chardet-3.0.4-py2.py3-none-any.whl (133 kB)\n",
      "\u001b[K     |████████████████████████████████| 133 kB 3.9 MB/s eta 0:00:01\n",
      "\u001b[?25hCollecting certifi>=2017.4.17\n",
      "  Downloading certifi-2019.11.28-py2.py3-none-any.whl (156 kB)\n",
      "\u001b[K     |████████████████████████████████| 156 kB 3.7 MB/s eta 0:00:01\n",
      "\u001b[?25hCollecting requests-oauthlib>=0.7.0\n",
      "  Downloading requests_oauthlib-1.3.0-py2.py3-none-any.whl (23 kB)\n",
      "Collecting pyasn1<0.5.0,>=0.4.6\n",
      "  Downloading pyasn1-0.4.8-py2.py3-none-any.whl (77 kB)\n",
      "\u001b[K     |████████████████████████████████| 77 kB 3.1 MB/s eta 0:00:01\n",
      "\u001b[?25hCollecting oauthlib>=3.0.0\n",
      "  Downloading oauthlib-3.1.0-py2.py3-none-any.whl (147 kB)\n",
      "\u001b[K     |████████████████████████████████| 147 kB 3.9 MB/s eta 0:00:01\n",
      "\u001b[31mERROR: tensorflow 1.15.2 has requirement gast==0.2.2, but you'll have gast 0.3.3 which is incompatible.\u001b[0m\n",
      "\u001b[?25hInstalling collected packages: scipy, six, astunparse, gast, tf-estimator-nightly, cachetools, pyasn1, pyasn1-modules, rsa, google-auth, urllib3, chardet, certifi, requests, oauthlib, requests-oauthlib, google-auth-oauthlib, tb-nightly, tf-nightly\n",
      "  Attempting uninstall: six\n",
      "    Found existing installation: six 1.11.0\n",
      "    Uninstalling six-1.11.0:\n",
      "      Successfully uninstalled six-1.11.0\n",
      "  Attempting uninstall: gast\n",
      "    Found existing installation: gast 0.2.2\n",
      "    Uninstalling gast-0.2.2:\n",
      "      Successfully uninstalled gast-0.2.2\n",
      "Successfully installed astunparse-1.6.3 cachetools-4.0.0 certifi-2019.11.28 chardet-3.0.4 gast-0.3.3 google-auth-1.11.0 google-auth-oauthlib-0.4.1 oauthlib-3.1.0 pyasn1-0.4.8 pyasn1-modules-0.2.8 requests-2.22.0 requests-oauthlib-1.3.0 rsa-4.0 scipy-1.4.1 six-1.14.0 tb-nightly-2.2.0a20200201 tf-estimator-nightly-2.1.0.dev2020012309 tf-nightly-2.2.0.dev20200201 urllib3-1.25.8\n"
     ]
    }
   ],
   "source": [
    "# keras.datasets.imdb is broken in 1.13 and 1.14, by np 1.16.3\n",
    "!pip install tf_nightly"
   ]
  },
  {
   "cell_type": "code",
   "execution_count": 5,
   "metadata": {
    "colab": {},
    "colab_type": "code",
    "id": "2ew7HTbPpCJH"
   },
   "outputs": [
    {
     "name": "stdout",
     "output_type": "stream",
     "text": [
      "2.2.0-dev20200201\n"
     ]
    }
   ],
   "source": [
    "from __future__ import absolute_import, division, print_function, unicode_literals\n",
    "\n",
    "import tensorflow as tf\n",
    "from tensorflow import keras\n",
    "\n",
    "import numpy as np\n",
    "\n",
    "print(tf.__version__)"
   ]
  },
  {
   "cell_type": "markdown",
   "metadata": {
    "colab_type": "text",
    "id": "iAsKG535pHep"
   },
   "source": [
    "## Download the IMDB dataset\n",
    "\n",
    "The IMDB dataset comes packaged with TensorFlow. It has already been preprocessed such that the reviews (sequences of words) have been converted to sequences of integers, where each integer represents a specific word in a dictionary.\n",
    "\n",
    "The following code downloads the IMDB dataset to your machine (or uses a cached copy if you've already downloaded it):"
   ]
  },
  {
   "cell_type": "code",
   "execution_count": 6,
   "metadata": {
    "colab": {},
    "colab_type": "code",
    "id": "zXXx5Oc3pOmN"
   },
   "outputs": [
    {
     "name": "stdout",
     "output_type": "stream",
     "text": [
      "Downloading data from https://storage.googleapis.com/tensorflow/tf-keras-datasets/imdb.npz\n",
      "17465344/17464789 [==============================] - 4s 0us/step\n"
     ]
    }
   ],
   "source": [
    "imdb = keras.datasets.imdb\n",
    "\n",
    "(train_data, train_labels), (test_data, test_labels) = imdb.load_data(num_words=10000)"
   ]
  },
  {
   "cell_type": "markdown",
   "metadata": {
    "colab_type": "text",
    "id": "odr-KlzO-lkL"
   },
   "source": [
    "The argument `num_words=10000` keeps the top 10,000 most frequently occurring words in the training data. The rare words are discarded to keep the size of the data manageable."
   ]
  },
  {
   "cell_type": "markdown",
   "metadata": {
    "colab_type": "text",
    "id": "l50X3GfjpU4r"
   },
   "source": [
    "## Explore the data\n",
    "\n",
    "Let's take a moment to understand the format of the data. The dataset comes preprocessed: each example is an array of integers representing the words of the movie review. Each label is an integer value of either 0 or 1, where 0 is a negative review, and 1 is a positive review."
   ]
  },
  {
   "cell_type": "code",
   "execution_count": 7,
   "metadata": {
    "colab": {},
    "colab_type": "code",
    "id": "y8qCnve_-lkO"
   },
   "outputs": [
    {
     "name": "stdout",
     "output_type": "stream",
     "text": [
      "Training entries: 25000, labels: 25000\n"
     ]
    }
   ],
   "source": [
    "print(\"Training entries: {}, labels: {}\".format(len(train_data), len(train_labels)))"
   ]
  },
  {
   "cell_type": "markdown",
   "metadata": {
    "colab_type": "text",
    "id": "RnKvHWW4-lkW"
   },
   "source": [
    "The text of reviews have been converted to integers, where each integer represents a specific word in a dictionary. Here's what the first review looks like:"
   ]
  },
  {
   "cell_type": "code",
   "execution_count": 8,
   "metadata": {
    "colab": {},
    "colab_type": "code",
    "id": "QtTS4kpEpjbi"
   },
   "outputs": [
    {
     "name": "stdout",
     "output_type": "stream",
     "text": [
      "[1, 14, 22, 16, 43, 530, 973, 1622, 1385, 65, 458, 4468, 66, 3941, 4, 173, 36, 256, 5, 25, 100, 43, 838, 112, 50, 670, 2, 9, 35, 480, 284, 5, 150, 4, 172, 112, 167, 2, 336, 385, 39, 4, 172, 4536, 1111, 17, 546, 38, 13, 447, 4, 192, 50, 16, 6, 147, 2025, 19, 14, 22, 4, 1920, 4613, 469, 4, 22, 71, 87, 12, 16, 43, 530, 38, 76, 15, 13, 1247, 4, 22, 17, 515, 17, 12, 16, 626, 18, 2, 5, 62, 386, 12, 8, 316, 8, 106, 5, 4, 2223, 5244, 16, 480, 66, 3785, 33, 4, 130, 12, 16, 38, 619, 5, 25, 124, 51, 36, 135, 48, 25, 1415, 33, 6, 22, 12, 215, 28, 77, 52, 5, 14, 407, 16, 82, 2, 8, 4, 107, 117, 5952, 15, 256, 4, 2, 7, 3766, 5, 723, 36, 71, 43, 530, 476, 26, 400, 317, 46, 7, 4, 2, 1029, 13, 104, 88, 4, 381, 15, 297, 98, 32, 2071, 56, 26, 141, 6, 194, 7486, 18, 4, 226, 22, 21, 134, 476, 26, 480, 5, 144, 30, 5535, 18, 51, 36, 28, 224, 92, 25, 104, 4, 226, 65, 16, 38, 1334, 88, 12, 16, 283, 5, 16, 4472, 113, 103, 32, 15, 16, 5345, 19, 178, 32]\n"
     ]
    }
   ],
   "source": [
    "print(train_data[0])"
   ]
  },
  {
   "cell_type": "markdown",
   "metadata": {
    "colab_type": "text",
    "id": "hIE4l_72x7DP"
   },
   "source": [
    "Movie reviews may be different lengths. The below code shows the number of words in the first and second reviews. Since inputs to a neural network must be the same length, we'll need to resolve this later."
   ]
  },
  {
   "cell_type": "code",
   "execution_count": 9,
   "metadata": {
    "colab": {},
    "colab_type": "code",
    "id": "X-6Ii9Pfx6Nr"
   },
   "outputs": [
    {
     "data": {
      "text/plain": [
       "(218, 189)"
      ]
     },
     "execution_count": 9,
     "metadata": {},
     "output_type": "execute_result"
    }
   ],
   "source": [
    "len(train_data[0]), len(train_data[1])"
   ]
  },
  {
   "cell_type": "markdown",
   "metadata": {
    "colab_type": "text",
    "id": "4wJg2FiYpuoX"
   },
   "source": [
    "### Convert the integers back to words\n",
    "\n",
    "It may be useful to know how to convert integers back to text. Here, we'll create a helper function to query a dictionary object that contains the integer to string mapping:"
   ]
  },
  {
   "cell_type": "code",
   "execution_count": 10,
   "metadata": {
    "colab": {},
    "colab_type": "code",
    "id": "tr5s_1alpzop"
   },
   "outputs": [
    {
     "name": "stdout",
     "output_type": "stream",
     "text": [
      "Downloading data from https://storage.googleapis.com/tensorflow/tf-keras-datasets/imdb_word_index.json\n",
      "1646592/1641221 [==============================] - 0s 0us/step\n"
     ]
    }
   ],
   "source": [
    "# A dictionary mapping words to an integer index\n",
    "word_index = imdb.get_word_index()\n",
    "\n",
    "# The first indices are reserved\n",
    "word_index = {k:(v+3) for k,v in word_index.items()}\n",
    "word_index[\"<PAD>\"] = 0\n",
    "word_index[\"<START>\"] = 1\n",
    "word_index[\"<UNK>\"] = 2  # unknown\n",
    "word_index[\"<UNUSED>\"] = 3\n",
    "\n",
    "reverse_word_index = dict([(value, key) for (key, value) in word_index.items()])\n",
    "\n",
    "def decode_review(text):\n",
    "    return ' '.join([reverse_word_index.get(i, '?') for i in text])"
   ]
  },
  {
   "cell_type": "markdown",
   "metadata": {
    "colab_type": "text",
    "id": "U3CNRvEZVppl"
   },
   "source": [
    "Now we can use the `decode_review` function to display the text for the first review:"
   ]
  },
  {
   "cell_type": "code",
   "execution_count": 11,
   "metadata": {
    "colab": {},
    "colab_type": "code",
    "id": "s_OqxmH6-lkn"
   },
   "outputs": [
    {
     "data": {
      "text/plain": [
       "\"<START> this film was just brilliant casting location scenery story direction everyone's really suited the part they played and you could just imagine being there robert <UNK> is an amazing actor and now the same being director <UNK> father came from the same scottish island as myself so i loved the fact there was a real connection with this film the witty remarks throughout the film were great it was just brilliant so much that i bought the film as soon as it was released for <UNK> and would recommend it to everyone to watch and the fly fishing was amazing really cried at the end it was so sad and you know what they say if you cry at a film it must have been good and this definitely was also <UNK> to the two little boy's that played the <UNK> of norman and paul they were just brilliant children are often left out of the <UNK> list i think because the stars that play them all grown up are such a big profile for the whole film but these children are amazing and should be praised for what they have done don't you think the whole story was so lovely because it was true and was someone's life after all that was shared with us all\""
      ]
     },
     "execution_count": 11,
     "metadata": {},
     "output_type": "execute_result"
    }
   ],
   "source": [
    "decode_review(train_data[0])"
   ]
  },
  {
   "cell_type": "markdown",
   "metadata": {
    "colab_type": "text",
    "id": "lFP_XKVRp4_S"
   },
   "source": [
    "## Prepare the data\n",
    "\n",
    "The reviews—the arrays of integers—must be converted to tensors before fed into the neural network. This conversion can be done a couple of ways:\n",
    "\n",
    "* Convert the arrays into vectors of 0s and 1s indicating word occurrence, similar to a one-hot encoding. For example, the sequence  [3, 5] would become a 10,000-dimensional vector that is all zeros except for indices 3 and 5, which are ones. Then, make this the first layer in our network—a Dense layer—that can handle floating point vector data. This approach is memory intensive, though, requiring a `num_words * num_reviews` size matrix.\n",
    "\n",
    "* Alternatively, we can pad the arrays so they all have the same length, then create an integer tensor of shape `max_length * num_reviews`. We can use an embedding layer capable of handling this shape as the first layer in our network.\n",
    "\n",
    "In this tutorial, we will use the second approach.\n",
    "\n",
    "Since the movie reviews must be the same length, we will use the [pad_sequences](https://keras.io/preprocessing/sequence/#pad_sequences) function to standardize the lengths:"
   ]
  },
  {
   "cell_type": "code",
   "execution_count": 12,
   "metadata": {
    "colab": {},
    "colab_type": "code",
    "id": "2jQv-omsHurp"
   },
   "outputs": [],
   "source": [
    "train_data = keras.preprocessing.sequence.pad_sequences(train_data,\n",
    "                                                        value=word_index[\"<PAD>\"],\n",
    "                                                        padding='post',\n",
    "                                                        maxlen=256)\n",
    "\n",
    "test_data = keras.preprocessing.sequence.pad_sequences(test_data,\n",
    "                                                       value=word_index[\"<PAD>\"],\n",
    "                                                       padding='post',\n",
    "                                                       maxlen=256)"
   ]
  },
  {
   "cell_type": "markdown",
   "metadata": {
    "colab_type": "text",
    "id": "VO5MBpyQdipD"
   },
   "source": [
    "Let's look at the length of the examples now:"
   ]
  },
  {
   "cell_type": "code",
   "execution_count": 13,
   "metadata": {
    "colab": {},
    "colab_type": "code",
    "id": "USSSBnkE-lky"
   },
   "outputs": [
    {
     "data": {
      "text/plain": [
       "(256, 256)"
      ]
     },
     "execution_count": 13,
     "metadata": {},
     "output_type": "execute_result"
    }
   ],
   "source": [
    "len(train_data[0]), len(train_data[1])"
   ]
  },
  {
   "cell_type": "markdown",
   "metadata": {
    "colab_type": "text",
    "id": "QJoxZGyfjT5V"
   },
   "source": [
    "And inspect the (now padded) first review:"
   ]
  },
  {
   "cell_type": "code",
   "execution_count": 14,
   "metadata": {
    "colab": {},
    "colab_type": "code",
    "id": "TG8X9cqi-lk9"
   },
   "outputs": [
    {
     "name": "stdout",
     "output_type": "stream",
     "text": [
      "[   1   14   22   16   43  530  973 1622 1385   65  458 4468   66 3941\n",
      "    4  173   36  256    5   25  100   43  838  112   50  670    2    9\n",
      "   35  480  284    5  150    4  172  112  167    2  336  385   39    4\n",
      "  172 4536 1111   17  546   38   13  447    4  192   50   16    6  147\n",
      " 2025   19   14   22    4 1920 4613  469    4   22   71   87   12   16\n",
      "   43  530   38   76   15   13 1247    4   22   17  515   17   12   16\n",
      "  626   18    2    5   62  386   12    8  316    8  106    5    4 2223\n",
      " 5244   16  480   66 3785   33    4  130   12   16   38  619    5   25\n",
      "  124   51   36  135   48   25 1415   33    6   22   12  215   28   77\n",
      "   52    5   14  407   16   82    2    8    4  107  117 5952   15  256\n",
      "    4    2    7 3766    5  723   36   71   43  530  476   26  400  317\n",
      "   46    7    4    2 1029   13  104   88    4  381   15  297   98   32\n",
      " 2071   56   26  141    6  194 7486   18    4  226   22   21  134  476\n",
      "   26  480    5  144   30 5535   18   51   36   28  224   92   25  104\n",
      "    4  226   65   16   38 1334   88   12   16  283    5   16 4472  113\n",
      "  103   32   15   16 5345   19  178   32    0    0    0    0    0    0\n",
      "    0    0    0    0    0    0    0    0    0    0    0    0    0    0\n",
      "    0    0    0    0    0    0    0    0    0    0    0    0    0    0\n",
      "    0    0    0    0]\n"
     ]
    }
   ],
   "source": [
    "print(train_data[0])"
   ]
  },
  {
   "cell_type": "markdown",
   "metadata": {
    "colab_type": "text",
    "id": "LLC02j2g-llC"
   },
   "source": [
    "## Build the model\n",
    "\n",
    "The neural network is created by stacking layers—this requires two main architectural decisions:\n",
    "\n",
    "* How many layers to use in the model?\n",
    "* How many *hidden units* to use for each layer?\n",
    "\n",
    "In this example, the input data consists of an array of word-indices. The labels to predict are either 0 or 1. Let's build a model for this problem:"
   ]
  },
  {
   "cell_type": "code",
   "execution_count": 15,
   "metadata": {
    "colab": {},
    "colab_type": "code",
    "id": "xpKOoWgu-llD"
   },
   "outputs": [
    {
     "name": "stdout",
     "output_type": "stream",
     "text": [
      "Model: \"sequential\"\n",
      "_________________________________________________________________\n",
      "Layer (type)                 Output Shape              Param #   \n",
      "=================================================================\n",
      "embedding (Embedding)        (None, None, 16)          160000    \n",
      "_________________________________________________________________\n",
      "global_average_pooling1d (Gl (None, 16)                0         \n",
      "_________________________________________________________________\n",
      "dense (Dense)                (None, 16)                272       \n",
      "_________________________________________________________________\n",
      "dense_1 (Dense)              (None, 1)                 17        \n",
      "=================================================================\n",
      "Total params: 160,289\n",
      "Trainable params: 160,289\n",
      "Non-trainable params: 0\n",
      "_________________________________________________________________\n"
     ]
    }
   ],
   "source": [
    "# input shape is the vocabulary count used for the movie reviews (10,000 words)\n",
    "vocab_size = 10000\n",
    "\n",
    "model = keras.Sequential()\n",
    "model.add(keras.layers.Embedding(vocab_size, 16))\n",
    "model.add(keras.layers.GlobalAveragePooling1D())\n",
    "model.add(keras.layers.Dense(16, activation=tf.nn.relu))\n",
    "model.add(keras.layers.Dense(1, activation=tf.nn.sigmoid))\n",
    "\n",
    "model.summary()"
   ]
  },
  {
   "cell_type": "markdown",
   "metadata": {
    "colab_type": "text",
    "id": "0XMwnDOp-llH"
   },
   "source": [
    "### Hidden units\n",
    "\n",
    "The above model has two intermediate or \"hidden\" layers, between the input and output. The number of outputs (units, nodes, or neurons) is the dimension of the representational space for the layer. In other words, the amount of freedom the network is allowed when learning an internal representation.\n",
    "\n",
    "If a model has more hidden units (a higher-dimensional representation space), and/or more layers, then the network can learn more complex representations. However, it makes the network more computationally expensive and may lead to learning unwanted patterns—patterns that improve performance on training data but not on the test data. This is called *overfitting*, and we'll explore it later."
   ]
  },
  {
   "cell_type": "markdown",
   "metadata": {
    "colab_type": "text",
    "id": "L4EqVWg4-llM"
   },
   "source": [
    "### Loss function and optimizer\n",
    "\n",
    "A model needs a loss function and an optimizer for training. Since this is a binary classification problem and the model outputs a probability (a single-unit layer with a sigmoid activation), we'll use the `binary_crossentropy` loss function.\n",
    "\n",
    "This isn't the only choice for a loss function, you could, for instance, choose `mean_squared_error`. But, generally, `binary_crossentropy` is better for dealing with probabilities—it measures the \"distance\" between probability distributions, or in our case, between the ground-truth distribution and the predictions.\n",
    "\n",
    "Later, when we are exploring regression problems (say, to predict the price of a house), we will see how to use another loss function called mean squared error.\n",
    "\n",
    "Now, configure the model to use an optimizer and a loss function:"
   ]
  },
  {
   "cell_type": "code",
   "execution_count": 37,
   "metadata": {
    "colab": {},
    "colab_type": "code",
    "id": "Mr0GP-cQ-llN"
   },
   "outputs": [],
   "source": [
    "model.compile(optimizer='adam',\n",
    "              loss='binary_crossentropy',\n",
    "              metrics=['acc'])"
   ]
  },
  {
   "cell_type": "markdown",
   "metadata": {
    "colab_type": "text",
    "id": "hCWYwkug-llQ"
   },
   "source": [
    "## Create a validation set\n",
    "\n",
    "When training, we want to check the accuracy of the model on data it hasn't seen before. Create a *validation set* by setting apart 10,000 examples from the original training data. (Why not use the testing set now? Our goal is to develop and tune our model using only the training data, then use the test data just once to evaluate our accuracy)."
   ]
  },
  {
   "cell_type": "code",
   "execution_count": 38,
   "metadata": {
    "colab": {},
    "colab_type": "code",
    "id": "-NpcXY9--llS"
   },
   "outputs": [],
   "source": [
    "x_val = train_data[:10000]\n",
    "partial_x_train = train_data[10000:]\n",
    "\n",
    "y_val = train_labels[:10000]\n",
    "partial_y_train = train_labels[10000:]"
   ]
  },
  {
   "cell_type": "code",
   "execution_count": 39,
   "metadata": {},
   "outputs": [
    {
     "data": {
      "text/plain": [
       "array([[   1,   14,   22,   16,   43,  530,  973, 1622, 1385,   65,  458,\n",
       "        4468,   66, 3941,    4,  173,   36,  256,    5,   25,  100,   43,\n",
       "         838,  112,   50,  670,    2,    9,   35,  480,  284,    5,  150,\n",
       "           4,  172,  112,  167,    2,  336,  385,   39,    4,  172, 4536,\n",
       "        1111,   17,  546,   38,   13,  447,    4,  192,   50,   16,    6,\n",
       "         147, 2025,   19,   14,   22,    4, 1920, 4613,  469,    4,   22,\n",
       "          71,   87,   12,   16,   43,  530,   38,   76,   15,   13, 1247,\n",
       "           4,   22,   17,  515,   17,   12,   16,  626,   18,    2,    5,\n",
       "          62,  386,   12,    8,  316,    8,  106,    5,    4, 2223, 5244,\n",
       "          16,  480,   66, 3785,   33,    4,  130,   12,   16,   38,  619,\n",
       "           5,   25,  124,   51,   36,  135,   48,   25, 1415,   33,    6,\n",
       "          22,   12,  215,   28,   77,   52,    5,   14,  407,   16,   82,\n",
       "           2,    8,    4,  107,  117, 5952,   15,  256,    4,    2,    7,\n",
       "        3766,    5,  723,   36,   71,   43,  530,  476,   26,  400,  317,\n",
       "          46,    7,    4,    2, 1029,   13,  104,   88,    4,  381,   15,\n",
       "         297,   98,   32, 2071,   56,   26,  141,    6,  194, 7486,   18,\n",
       "           4,  226,   22,   21,  134,  476,   26,  480,    5,  144,   30,\n",
       "        5535,   18,   51,   36,   28,  224,   92,   25,  104,    4,  226,\n",
       "          65,   16,   38, 1334,   88,   12,   16,  283,    5,   16, 4472,\n",
       "         113,  103,   32,   15,   16, 5345,   19,  178,   32,    0,    0,\n",
       "           0,    0,    0,    0,    0,    0,    0,    0,    0,    0,    0,\n",
       "           0,    0,    0,    0,    0,    0,    0,    0,    0,    0,    0,\n",
       "           0,    0,    0,    0,    0,    0,    0,    0,    0,    0,    0,\n",
       "           0,    0,    0],\n",
       "       [   1,  194, 1153,  194, 8255,   78,  228,    5,    6, 1463, 4369,\n",
       "        5012,  134,   26,    4,  715,    8,  118, 1634,   14,  394,   20,\n",
       "          13,  119,  954,  189,  102,    5,  207,  110, 3103,   21,   14,\n",
       "          69,  188,    8,   30,   23,    7,    4,  249,  126,   93,    4,\n",
       "         114,    9, 2300, 1523,    5,  647,    4,  116,    9,   35, 8163,\n",
       "           4,  229,    9,  340, 1322,    4,  118,    9,    4,  130, 4901,\n",
       "          19,    4, 1002,    5,   89,   29,  952,   46,   37,    4,  455,\n",
       "           9,   45,   43,   38, 1543, 1905,  398,    4, 1649,   26, 6853,\n",
       "           5,  163,   11, 3215,    2,    4, 1153,    9,  194,  775,    7,\n",
       "        8255,    2,  349, 2637,  148,  605,    2, 8003,   15,  123,  125,\n",
       "          68,    2, 6853,   15,  349,  165, 4362,   98,    5,    4,  228,\n",
       "           9,   43,    2, 1157,   15,  299,  120,    5,  120,  174,   11,\n",
       "         220,  175,  136,   50,    9, 4373,  228, 8255,    5,    2,  656,\n",
       "         245, 2350,    5,    4, 9837,  131,  152,  491,   18,    2,   32,\n",
       "        7464, 1212,   14,    9,    6,  371,   78,   22,  625,   64, 1382,\n",
       "           9,    8,  168,  145,   23,    4, 1690,   15,   16,    4, 1355,\n",
       "           5,   28,    6,   52,  154,  462,   33,   89,   78,  285,   16,\n",
       "         145,   95,    0,    0,    0,    0,    0,    0,    0,    0,    0,\n",
       "           0,    0,    0,    0,    0,    0,    0,    0,    0,    0,    0,\n",
       "           0,    0,    0,    0,    0,    0,    0,    0,    0,    0,    0,\n",
       "           0,    0,    0,    0,    0,    0,    0,    0,    0,    0,    0,\n",
       "           0,    0,    0,    0,    0,    0,    0,    0,    0,    0,    0,\n",
       "           0,    0,    0,    0,    0,    0,    0,    0,    0,    0,    0,\n",
       "           0,    0,    0]], dtype=int32)"
      ]
     },
     "execution_count": 39,
     "metadata": {},
     "output_type": "execute_result"
    }
   ],
   "source": [
    "train_data[0:2,:]"
   ]
  },
  {
   "cell_type": "code",
   "execution_count": 40,
   "metadata": {},
   "outputs": [
    {
     "data": {
      "text/plain": [
       "(15000, 256)"
      ]
     },
     "execution_count": 40,
     "metadata": {},
     "output_type": "execute_result"
    }
   ],
   "source": [
    "partial_x_train.shape"
   ]
  },
  {
   "cell_type": "code",
   "execution_count": 41,
   "metadata": {},
   "outputs": [
    {
     "data": {
      "text/plain": [
       "1"
      ]
     },
     "execution_count": 41,
     "metadata": {},
     "output_type": "execute_result"
    }
   ],
   "source": [
    "train_labels[0]"
   ]
  },
  {
   "cell_type": "markdown",
   "metadata": {
    "colab_type": "text",
    "id": "6PbKQ6mucuKL"
   },
   "source": [
    "The layers are stacked sequentially to build the classifier:\n",
    "\n",
    "1. The first layer is an `Embedding` layer. This layer takes the integer-encoded vocabulary and looks up the embedding vector for each word-index. These vectors are learned as the model trains. The vectors add a dimension to the output array. The resulting dimensions are: `(batch, sequence, embedding)`.\n",
    "2. Next, a `GlobalAveragePooling1D` layer returns a fixed-length output vector for each example by averaging over the sequence dimension. This allows the model to handle input of variable length, in the simplest way possible.\n",
    "3. This fixed-length output vector is piped through a fully-connected (`Dense`) layer with 16 hidden units.\n",
    "4. The last layer is densely connected with a single output node. Using the `sigmoid` activation function, this value is a float between 0 and 1, representing a probability, or confidence level."
   ]
  },
  {
   "cell_type": "markdown",
   "metadata": {
    "colab_type": "text",
    "id": "35jv_fzP-llU"
   },
   "source": [
    "## Train the model\n",
    "\n",
    "Train the model for 40 epochs in mini-batches of 512 samples. This is 40 iterations over all samples in the `x_train` and `y_train` tensors. While training, monitor the model's loss and accuracy on the 10,000 samples from the validation set:"
   ]
  },
  {
   "cell_type": "code",
   "execution_count": 42,
   "metadata": {
    "colab": {},
    "colab_type": "code",
    "id": "tXSGrjWZ-llW"
   },
   "outputs": [
    {
     "name": "stdout",
     "output_type": "stream",
     "text": [
      "Train on 15000 samples, validate on 10000 samples\n",
      "Epoch 1/40\n",
      "15000/15000 [==============================] - 1s 75us/sample - loss: 0.6922 - acc: 0.5864 - val_loss: 0.6905 - val_acc: 0.6799\n",
      "Epoch 2/40\n",
      "15000/15000 [==============================] - 0s 30us/sample - loss: 0.6869 - acc: 0.6693 - val_loss: 0.6823 - val_acc: 0.7108\n",
      "Epoch 3/40\n",
      "15000/15000 [==============================] - 0s 28us/sample - loss: 0.6733 - acc: 0.7441 - val_loss: 0.6656 - val_acc: 0.7405\n",
      "Epoch 4/40\n",
      "15000/15000 [==============================] - 0s 28us/sample - loss: 0.6496 - acc: 0.7678 - val_loss: 0.6378 - val_acc: 0.7609\n",
      "Epoch 5/40\n",
      "15000/15000 [==============================] - 0s 28us/sample - loss: 0.6142 - acc: 0.7896 - val_loss: 0.6007 - val_acc: 0.7869\n",
      "Epoch 6/40\n",
      "15000/15000 [==============================] - 0s 29us/sample - loss: 0.5689 - acc: 0.8142 - val_loss: 0.5564 - val_acc: 0.7979\n",
      "Epoch 7/40\n",
      "15000/15000 [==============================] - 0s 29us/sample - loss: 0.5194 - acc: 0.8310 - val_loss: 0.5109 - val_acc: 0.8173\n",
      "Epoch 8/40\n",
      "15000/15000 [==============================] - 0s 30us/sample - loss: 0.4704 - acc: 0.8469 - val_loss: 0.4687 - val_acc: 0.8353\n",
      "Epoch 9/40\n",
      "15000/15000 [==============================] - 0s 29us/sample - loss: 0.4254 - acc: 0.8627 - val_loss: 0.4316 - val_acc: 0.8478\n",
      "Epoch 10/40\n",
      "15000/15000 [==============================] - 0s 29us/sample - loss: 0.3867 - acc: 0.8744 - val_loss: 0.4019 - val_acc: 0.8534\n",
      "Epoch 11/40\n",
      "15000/15000 [==============================] - 0s 30us/sample - loss: 0.3543 - acc: 0.8845 - val_loss: 0.3775 - val_acc: 0.8611\n",
      "Epoch 12/40\n",
      "15000/15000 [==============================] - 0s 28us/sample - loss: 0.3278 - acc: 0.8908 - val_loss: 0.3584 - val_acc: 0.8652\n",
      "Epoch 13/40\n",
      "15000/15000 [==============================] - 0s 28us/sample - loss: 0.3048 - acc: 0.8964 - val_loss: 0.3436 - val_acc: 0.8691\n",
      "Epoch 14/40\n",
      "15000/15000 [==============================] - 0s 27us/sample - loss: 0.2852 - acc: 0.9028 - val_loss: 0.3311 - val_acc: 0.8716\n",
      "Epoch 15/40\n",
      "15000/15000 [==============================] - 0s 28us/sample - loss: 0.2681 - acc: 0.9076 - val_loss: 0.3211 - val_acc: 0.8746\n",
      "Epoch 16/40\n",
      "15000/15000 [==============================] - 0s 29us/sample - loss: 0.2532 - acc: 0.9129 - val_loss: 0.3127 - val_acc: 0.8771\n",
      "Epoch 17/40\n",
      "15000/15000 [==============================] - 0s 27us/sample - loss: 0.2398 - acc: 0.9172 - val_loss: 0.3066 - val_acc: 0.8788\n",
      "Epoch 18/40\n",
      "15000/15000 [==============================] - 0s 26us/sample - loss: 0.2276 - acc: 0.9205 - val_loss: 0.3006 - val_acc: 0.8810\n",
      "Epoch 19/40\n",
      "15000/15000 [==============================] - 0s 29us/sample - loss: 0.2161 - acc: 0.9253 - val_loss: 0.2964 - val_acc: 0.8814\n",
      "Epoch 20/40\n",
      "15000/15000 [==============================] - 0s 27us/sample - loss: 0.2059 - acc: 0.9293 - val_loss: 0.2932 - val_acc: 0.8826\n",
      "Epoch 21/40\n",
      "15000/15000 [==============================] - 0s 27us/sample - loss: 0.1964 - acc: 0.9331 - val_loss: 0.2903 - val_acc: 0.8842\n",
      "Epoch 22/40\n",
      "15000/15000 [==============================] - 0s 28us/sample - loss: 0.1870 - acc: 0.9379 - val_loss: 0.2880 - val_acc: 0.8847\n",
      "Epoch 23/40\n",
      "15000/15000 [==============================] - 0s 26us/sample - loss: 0.1796 - acc: 0.9414 - val_loss: 0.2867 - val_acc: 0.8848\n",
      "Epoch 24/40\n",
      "15000/15000 [==============================] - 0s 28us/sample - loss: 0.1713 - acc: 0.9454 - val_loss: 0.2858 - val_acc: 0.8839\n",
      "Epoch 25/40\n",
      "15000/15000 [==============================] - 0s 28us/sample - loss: 0.1639 - acc: 0.9477 - val_loss: 0.2853 - val_acc: 0.8845\n",
      "Epoch 26/40\n",
      "15000/15000 [==============================] - 0s 26us/sample - loss: 0.1569 - acc: 0.9508 - val_loss: 0.2850 - val_acc: 0.8851\n",
      "Epoch 27/40\n",
      "15000/15000 [==============================] - 0s 28us/sample - loss: 0.1506 - acc: 0.9537 - val_loss: 0.2859 - val_acc: 0.8841\n",
      "Epoch 28/40\n",
      "15000/15000 [==============================] - 0s 28us/sample - loss: 0.1441 - acc: 0.9567 - val_loss: 0.2858 - val_acc: 0.8861\n",
      "Epoch 29/40\n",
      "15000/15000 [==============================] - 0s 29us/sample - loss: 0.1384 - acc: 0.9579 - val_loss: 0.2867 - val_acc: 0.8859\n",
      "Epoch 30/40\n",
      "15000/15000 [==============================] - 0s 28us/sample - loss: 0.1330 - acc: 0.9608 - val_loss: 0.2885 - val_acc: 0.8844\n",
      "Epoch 31/40\n",
      "15000/15000 [==============================] - 0s 27us/sample - loss: 0.1274 - acc: 0.9627 - val_loss: 0.2897 - val_acc: 0.8857\n",
      "Epoch 32/40\n",
      "15000/15000 [==============================] - 0s 30us/sample - loss: 0.1227 - acc: 0.9647 - val_loss: 0.2927 - val_acc: 0.8842\n",
      "Epoch 33/40\n",
      "15000/15000 [==============================] - 0s 28us/sample - loss: 0.1177 - acc: 0.9673 - val_loss: 0.2942 - val_acc: 0.8854\n",
      "Epoch 34/40\n",
      "15000/15000 [==============================] - 0s 29us/sample - loss: 0.1136 - acc: 0.9678 - val_loss: 0.2961 - val_acc: 0.8856\n",
      "Epoch 35/40\n",
      "15000/15000 [==============================] - 0s 29us/sample - loss: 0.1087 - acc: 0.9701 - val_loss: 0.2994 - val_acc: 0.8833\n",
      "Epoch 36/40\n",
      "15000/15000 [==============================] - 0s 27us/sample - loss: 0.1044 - acc: 0.9722 - val_loss: 0.3015 - val_acc: 0.8844\n",
      "Epoch 37/40\n",
      "15000/15000 [==============================] - 0s 29us/sample - loss: 0.1003 - acc: 0.9727 - val_loss: 0.3044 - val_acc: 0.8834\n",
      "Epoch 38/40\n",
      "15000/15000 [==============================] - 0s 30us/sample - loss: 0.0964 - acc: 0.9748 - val_loss: 0.3076 - val_acc: 0.8835\n",
      "Epoch 39/40\n",
      "15000/15000 [==============================] - 0s 30us/sample - loss: 0.0930 - acc: 0.9761 - val_loss: 0.3102 - val_acc: 0.8830\n",
      "Epoch 40/40\n",
      "15000/15000 [==============================] - 0s 32us/sample - loss: 0.0893 - acc: 0.9772 - val_loss: 0.3137 - val_acc: 0.8821\n"
     ]
    }
   ],
   "source": [
    "history = model.fit(partial_x_train,\n",
    "                    partial_y_train,\n",
    "                    epochs=40,\n",
    "                    batch_size=512,\n",
    "                    validation_data=(x_val, y_val),\n",
    "                    verbose=1)"
   ]
  },
  {
   "cell_type": "markdown",
   "metadata": {
    "colab_type": "text",
    "id": "9EEGuDVuzb5r"
   },
   "source": [
    "## Evaluate the model\n",
    "\n",
    "And let's see how the model performs. Two values will be returned. Loss (a number which represents our error, lower values are better), and accuracy."
   ]
  },
  {
   "cell_type": "code",
   "execution_count": 43,
   "metadata": {
    "colab": {},
    "colab_type": "code",
    "id": "zOMKywn4zReN"
   },
   "outputs": [
    {
     "name": "stdout",
     "output_type": "stream",
     "text": [
      "25000/25000 [==============================] - 1s 44us/sample - loss: 0.3361 - acc: 0.8715\n",
      "[0.33611874109745027, 0.87152]\n"
     ]
    }
   ],
   "source": [
    "results = model.evaluate(test_data, test_labels)\n",
    "\n",
    "print(results)"
   ]
  },
  {
   "cell_type": "markdown",
   "metadata": {
    "colab_type": "text",
    "id": "z1iEXVTR0Z2t"
   },
   "source": [
    "This fairly naive approach achieves an accuracy of about 87%. With more advanced approaches, the model should get closer to 95%."
   ]
  },
  {
   "cell_type": "markdown",
   "metadata": {
    "colab_type": "text",
    "id": "5KggXVeL-llZ"
   },
   "source": [
    "## Create a graph of accuracy and loss over time\n",
    "\n",
    "`model.fit()` returns a `History` object that contains a dictionary with everything that happened during training:"
   ]
  },
  {
   "cell_type": "code",
   "execution_count": 0,
   "metadata": {
    "colab": {},
    "colab_type": "code",
    "id": "VcvSXvhp-llb"
   },
   "outputs": [],
   "source": [
    "history_dict = history.history\n",
    "history_dict.keys()"
   ]
  },
  {
   "cell_type": "markdown",
   "metadata": {
    "colab_type": "text",
    "id": "nRKsqL40-lle"
   },
   "source": [
    "There are four entries: one for each monitored metric during training and validation. We can use these to plot the training and validation loss for comparison, as well as the training and validation accuracy:"
   ]
  },
  {
   "cell_type": "code",
   "execution_count": 0,
   "metadata": {
    "colab": {},
    "colab_type": "code",
    "id": "nGoYf2Js-lle"
   },
   "outputs": [],
   "source": [
    "import matplotlib.pyplot as plt\n",
    "\n",
    "acc = history_dict['acc']\n",
    "val_acc = history_dict['val_acc']\n",
    "loss = history_dict['loss']\n",
    "val_loss = history_dict['val_loss']\n",
    "\n",
    "epochs = range(1, len(acc) + 1)\n",
    "\n",
    "# \"bo\" is for \"blue dot\"\n",
    "plt.plot(epochs, loss, 'bo', label='Training loss')\n",
    "# b is for \"solid blue line\"\n",
    "plt.plot(epochs, val_loss, 'b', label='Validation loss')\n",
    "plt.title('Training and validation loss')\n",
    "plt.xlabel('Epochs')\n",
    "plt.ylabel('Loss')\n",
    "plt.legend()\n",
    "\n",
    "plt.show()"
   ]
  },
  {
   "cell_type": "code",
   "execution_count": 0,
   "metadata": {
    "colab": {},
    "colab_type": "code",
    "id": "6hXx-xOv-llh"
   },
   "outputs": [],
   "source": [
    "plt.clf()   # clear figure\n",
    "\n",
    "plt.plot(epochs, acc, 'bo', label='Training acc')\n",
    "plt.plot(epochs, val_acc, 'b', label='Validation acc')\n",
    "plt.title('Training and validation accuracy')\n",
    "plt.xlabel('Epochs')\n",
    "plt.ylabel('Accuracy')\n",
    "plt.legend()\n",
    "\n",
    "plt.show()"
   ]
  },
  {
   "cell_type": "markdown",
   "metadata": {
    "colab_type": "text",
    "id": "oFEmZ5zq-llk"
   },
   "source": [
    "\n",
    "In this plot, the dots represent the training loss and accuracy, and the solid lines are the validation loss and accuracy.\n",
    "\n",
    "Notice the training loss *decreases* with each epoch and the training accuracy *increases* with each epoch. This is expected when using a gradient descent optimization—it should minimize the desired quantity on every iteration.\n",
    "\n",
    "This isn't the case for the validation loss and accuracy—they seem to peak after about twenty epochs. This is an example of overfitting: the model performs better on the training data than it does on data it has never seen before. After this point, the model over-optimizes and learns representations *specific* to the training data that do not *generalize* to test data.\n",
    "\n",
    "For this particular case, we could prevent overfitting by simply stopping the training after twenty or so epochs. Later, you'll see how to do this automatically with a callback."
   ]
  }
 ],
 "metadata": {
  "colab": {
   "collapsed_sections": [],
   "name": "basic-text-classification.ipynb",
   "private_outputs": true,
   "provenance": [],
   "toc_visible": true,
   "version": "0.3.2"
  },
  "kernelspec": {
   "display_name": "Python 3",
   "language": "python",
   "name": "python3"
  },
  "language_info": {
   "codemirror_mode": {
    "name": "ipython",
    "version": 3
   },
   "file_extension": ".py",
   "mimetype": "text/x-python",
   "name": "python",
   "nbconvert_exporter": "python",
   "pygments_lexer": "ipython3",
   "version": "3.6.9"
  }
 },
 "nbformat": 4,
 "nbformat_minor": 1
}
